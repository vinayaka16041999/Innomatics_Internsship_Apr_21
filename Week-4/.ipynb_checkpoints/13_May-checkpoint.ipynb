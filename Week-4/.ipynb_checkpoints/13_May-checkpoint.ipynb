{
 "cells": [
  {
   "cell_type": "markdown",
   "metadata": {},
   "source": [
    "## Day 4: Binomial Distribution I"
   ]
  },
  {
   "cell_type": "code",
   "execution_count": null,
   "metadata": {},
   "outputs": [],
   "source": [
    "# Enter your code here. Read input from STDIN. Print output to STDOUT\n",
    "def factorial(n):\n",
    "    if n==0 or n==1:\n",
    "        return 1\n",
    "    else:\n",
    "        return n*factorial(n-1)\n",
    "    \n",
    "def ncr(n,r):\n",
    "    return factorial(n)/(factorial(r) * factorial(n-r))\n",
    "\n",
    "a,b = map(float,input().split())\n",
    "p = a/(a+b)\n",
    "q = b/(a+b)\n",
    "sum=0\n",
    "for i in range(3,7):\n",
    "    sum+= ncr(6,i)*(p**i)*(q**(6-i))\n",
    "print(round(sum,3))"
   ]
  },
  {
   "cell_type": "markdown",
   "metadata": {},
   "source": [
    "## Day 4: Binomial Distribution II"
   ]
  },
  {
   "cell_type": "code",
   "execution_count": null,
   "metadata": {},
   "outputs": [],
   "source": [
    "# Enter your code here. Read input from STDIN. Print output to STDOUT\n",
    "def fact(n):\n",
    "    return 1 if n == 0 else n*fact(n-1)\n",
    "\n",
    "def comb(n, x):\n",
    "    return fact(n) / (fact(x) * fact(n-x))\n",
    "\n",
    "def b(x, n, p):\n",
    "    return comb(n, x) * p**x * (1-p)**(n-x)\n",
    "\n",
    "p, n = list(map(int, input().split(\" \")))\n",
    "print(round(sum([b(i, n, p/100) for i in range(3)]), 3))\n",
    "print(round(sum([b(i, n, p/100) for i in range(2, n+1)]), 3))"
   ]
  },
  {
   "cell_type": "markdown",
   "metadata": {},
   "source": [
    "## Day 5: Normal Distribution I"
   ]
  },
  {
   "cell_type": "code",
   "execution_count": null,
   "metadata": {},
   "outputs": [],
   "source": [
    "# Enter your code here. Read input from STDIN. Print output to STDOUT\n",
    "import math\n",
    "mean, std = map(int, input().split())\n",
    "def cdf(x):\n",
    "    return 0.5 * (1 + math.erf((x - mean) / (std * (2 ** 0.5))))\n",
    "print(round(cdf(19.5),3))\n",
    "print(round(cdf(22) - cdf(20),3))"
   ]
  },
  {
   "cell_type": "markdown",
   "metadata": {},
   "source": [
    "## Day 5: Normal Distribution II"
   ]
  },
  {
   "cell_type": "code",
   "execution_count": null,
   "metadata": {},
   "outputs": [],
   "source": [
    "# Enter your code here. Read input from STDIN. Print output to STDOUT\n",
    "import math\n",
    "mean, std = map(int, input().split())\n",
    "def cdf(x):\n",
    "    return 0.5 * (1 + math.erf((x - mean) / (std * (2 ** 0.5))))\n",
    "print(round((1-cdf(80))*100,2))\n",
    "print(round((1-cdf(60))*100,2))\n",
    "print(round((cdf(60))*100,2))"
   ]
  },
  {
   "cell_type": "markdown",
   "metadata": {},
   "source": [
    "## Day 5: CLT I"
   ]
  },
  {
   "cell_type": "code",
   "execution_count": null,
   "metadata": {},
   "outputs": [],
   "source": [
    "# Enter your code here. Read input from STDIN. Print output to STDOUT\n",
    "import math\n",
    "weight=int(input())\n",
    "amount=int(input())\n",
    "mu=int(input())\n",
    "sd=int(input())\n",
    "prob = 1/2*(1+math.erf((weight-mu*amount)/(sd*math.sqrt(amount)*math.sqrt(2))))\n",
    "print(round(prob,4))"
   ]
  },
  {
   "cell_type": "markdown",
   "metadata": {},
   "source": [
    "## Day 5: CLT II"
   ]
  },
  {
   "cell_type": "code",
   "execution_count": 1,
   "metadata": {},
   "outputs": [
    {
     "name": "stdout",
     "output_type": "stream",
     "text": [
      "0.6915\n"
     ]
    }
   ],
   "source": [
    "# Enter your code here. Read input from STDIN. Print output to STDOUT\n",
    "import math\n",
    "mean_ = 2.4*100\n",
    "std_ = 100**(1/2)*2.0\n",
    "def cdf(x):\n",
    "    return 0.5 * (1 + math.erf((x - mean_) / (std_ * (2 ** 0.5))))\n",
    "result = cdf(250.0)\n",
    "print (round(result,4))"
   ]
  },
  {
   "cell_type": "markdown",
   "metadata": {},
   "source": [
    "## Day 5: CLT III"
   ]
  },
  {
   "cell_type": "code",
   "execution_count": null,
   "metadata": {},
   "outputs": [],
   "source": [
    "# Enter your code here. Read input from STDIN. Print output to STDOUT\n",
    "import math\n",
    "s = int(input())\n",
    "mean = int(input())\n",
    "std = int(input())\n",
    "interval = float(input())\n",
    "z = float(input())\n",
    "print(round(mean - (std / math.sqrt(s)) * z, 2))\n",
    "print(round(mean + (std / math.sqrt(s)) * z, 2))"
   ]
  },
  {
   "cell_type": "markdown",
   "metadata": {},
   "source": [
    "## Day 7: Pearson Correlation Coefficient I"
   ]
  },
  {
   "cell_type": "code",
   "execution_count": null,
   "metadata": {},
   "outputs": [],
   "source": [
    "# Enter your code here. Read input from STDIN. Print output to STDOUT\n",
    "import math\n",
    "if __name__=='__main__':\n",
    "    n=int(input())\n",
    "    X=list(map(float,input().split()))\n",
    "    Y=list(map(float,input().split()))\n",
    "    muX=sum(X)/n\n",
    "    muY=sum(Y)/n\n",
    "    sqX=[]\n",
    "    sqY=[]\n",
    "    temp=[]\n",
    "    for i in range(n):\n",
    "        sqX.append((X[i]-muX)*(X[i]-muX))\n",
    "        sqY.append((Y[i]-muY)*(Y[i]-muY))\n",
    "        temp.append((X[i]-muX)*(Y[i]-muY))\n",
    "    sigX=math.sqrt(sum(sqX)/n)\n",
    "    sigY=math.sqrt(sum(sqY)/n)\n",
    "    ans=sum(temp)/(n*sigX*sigY)\n",
    "    print(round(ans,3))"
   ]
  },
  {
   "cell_type": "markdown",
   "metadata": {},
   "source": [
    "## Day 8: Least Square Regression Line"
   ]
  },
  {
   "cell_type": "code",
   "execution_count": null,
   "metadata": {},
   "outputs": [],
   "source": [
    "# Enter your code here. Read input from STDIN. Print output to STDOUT\n",
    "x = []\n",
    "y = []\n",
    "for i in range(5):\n",
    "    xi, yi = map(int, input().split())\n",
    "    x.append(xi)\n",
    "    y.append(yi)\n",
    "sum_x = 0\n",
    "sum_y = 0\n",
    "sum_x_sq = 0\n",
    "sum_xy = 0\n",
    "for i,j in zip(x,y):\n",
    "    sum_x += i\n",
    "    sum_y += j\n",
    "    sum_x_sq += i**2\n",
    "    sum_xy += i*j\n",
    "mean_x = sum_x/5\n",
    "mean_y = sum_y/5\n",
    "a = (5*sum_xy - sum_x*sum_y)/(5*sum_x_sq - (sum_x**2))\n",
    "b = mean_y - a*mean_x\n",
    "y_hat = a*80 + b\n",
    "print(round(y_hat,3))"
   ]
  },
  {
   "cell_type": "markdown",
   "metadata": {},
   "source": [
    "## Day 9: Multiple Linear Regression"
   ]
  },
  {
   "cell_type": "code",
   "execution_count": null,
   "metadata": {},
   "outputs": [],
   "source": [
    "# Enter your code here. Read input from STDIN. Print output to STDOUT\n",
    "from sklearn import linear_model\n",
    "\n",
    "def solve(y, x, x_pred):\n",
    "  lm = linear_model.LinearRegression()\n",
    "  lm.fit(x, y)\n",
    "  return lm.predict(x_pred)\n",
    "\n",
    "def main():\n",
    "  m, n = map(int, input().strip().split())\n",
    "  y = []; x = []; x_pred = []\n",
    "  for _ in range(n):\n",
    "    *features, y_val = map(float, input().strip().split())\n",
    "    x.append(features)\n",
    "    y.append(y_val)\n",
    "\n",
    "  for _ in range(int(input())):\n",
    "    features = list(map(float, input().strip().split()))\n",
    "    x_pred.append(features)\n",
    "  \n",
    "  answer = solve(y, x, x_pred)\n",
    "  for num in answer:\n",
    "    print(round(num, 2))\n",
    "\n",
    "if __name__ == \"__main__\":\n",
    "  main()"
   ]
  }
 ],
 "metadata": {
  "kernelspec": {
   "display_name": "Python 3",
   "language": "python",
   "name": "python3"
  },
  "language_info": {
   "codemirror_mode": {
    "name": "ipython",
    "version": 3
   },
   "file_extension": ".py",
   "mimetype": "text/x-python",
   "name": "python",
   "nbconvert_exporter": "python",
   "pygments_lexer": "ipython3",
   "version": "3.8.5"
  }
 },
 "nbformat": 4,
 "nbformat_minor": 4
}
